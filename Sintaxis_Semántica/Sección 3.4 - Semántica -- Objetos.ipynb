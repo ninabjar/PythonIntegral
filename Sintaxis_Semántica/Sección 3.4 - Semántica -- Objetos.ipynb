{
 "cells": [
  {
   "cell_type": "markdown",
   "id": "cardiovascular-manitoba",
   "metadata": {},
   "source": [
    "<img src=\"objeto.png\" width=450/>"
   ]
  },
  {
   "cell_type": "code",
   "execution_count": null,
   "id": "de9bd24d",
   "metadata": {},
   "outputs": [],
   "source": [
    "# Valor de un objeto\n",
    "5"
   ]
  },
  {
   "cell_type": "code",
   "execution_count": null,
   "id": "b2d7c2ac",
   "metadata": {},
   "outputs": [],
   "source": [
    "# Tipo de un objeto\n",
    "type(5)"
   ]
  },
  {
   "cell_type": "code",
   "execution_count": null,
   "id": "fa9fb433",
   "metadata": {},
   "outputs": [],
   "source": [
    "# Identidad de un objeto\n",
    "id(5)"
   ]
  },
  {
   "cell_type": "markdown",
   "id": "a0b7fecf",
   "metadata": {},
   "source": [
    "##### Atributos y métodos"
   ]
  },
  {
   "cell_type": "code",
   "execution_count": null,
   "id": "305f08e9",
   "metadata": {},
   "outputs": [],
   "source": [
    "# Listado de atributos de un objeto\n",
    "lst = [3,5,8]\n",
    "atributos = [a for a in dir(lst) if not callable(getattr(lst, a))]\n",
    "atributos"
   ]
  },
  {
   "cell_type": "code",
   "execution_count": null,
   "id": "720630d3",
   "metadata": {},
   "outputs": [],
   "source": [
    "# Atributo (ver cómo está compuesto el atributo)\n",
    "lst.__doc__"
   ]
  },
  {
   "cell_type": "code",
   "execution_count": null,
   "id": "af31365d",
   "metadata": {
    "scrolled": true
   },
   "outputs": [],
   "source": [
    "# Listado de métodos de un objeto\n",
    "\n",
    "metodos = [m for m in dir(lst) if m.startswith('__') is False]\n",
    "print(metodos)"
   ]
  },
  {
   "cell_type": "code",
   "execution_count": null,
   "id": "49b8ca3b",
   "metadata": {},
   "outputs": [],
   "source": [
    "# Método append\n",
    "lst.append(99)\n",
    "lst"
   ]
  },
  {
   "cell_type": "code",
   "execution_count": null,
   "id": "9a3424e4",
   "metadata": {},
   "outputs": [],
   "source": []
  }
 ],
 "metadata": {
  "kernelspec": {
   "display_name": "Python 3 (ipykernel)",
   "language": "python",
   "name": "python3"
  },
  "language_info": {
   "codemirror_mode": {
    "name": "ipython",
    "version": 3
   },
   "file_extension": ".py",
   "mimetype": "text/x-python",
   "name": "python",
   "nbconvert_exporter": "python",
   "pygments_lexer": "ipython3",
   "version": "3.10.0"
  }
 },
 "nbformat": 4,
 "nbformat_minor": 5
}
